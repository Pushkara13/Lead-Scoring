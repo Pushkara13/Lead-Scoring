{
 "cells": [
  {
   "cell_type": "code",
   "execution_count": 72,
   "metadata": {},
   "outputs": [],
   "source": [
    "import pandas as pd\n",
    "import numpy as np\n",
    "import matplotlib.pyplot as plt\n",
    "%matplotlib inline\n",
    "import pickle\n",
    "import warnings\n",
    "warnings.filterwarnings('ignore')\n",
    "\n",
    "import os\n",
    "\n",
    "from sklearn.model_selection import train_test_split\n",
    "from sklearn.metrics import mean_squared_error, r2_score\n",
    "from math import sqrt"
   ]
  },
  {
   "cell_type": "code",
   "execution_count": 73,
   "metadata": {},
   "outputs": [],
   "source": [
    "bikes_day = pd.read_csv(r\"C:\\Users\\Pushkara.Aravapalli\\Documents\\Data Science\\Bike Sharing\\day.csv\")\n"
   ]
  },
  {
   "cell_type": "code",
   "execution_count": 74,
   "metadata": {},
   "outputs": [
    {
     "data": {
      "text/html": [
       "<div>\n",
       "<style scoped>\n",
       "    .dataframe tbody tr th:only-of-type {\n",
       "        vertical-align: middle;\n",
       "    }\n",
       "\n",
       "    .dataframe tbody tr th {\n",
       "        vertical-align: top;\n",
       "    }\n",
       "\n",
       "    .dataframe thead th {\n",
       "        text-align: right;\n",
       "    }\n",
       "</style>\n",
       "<table border=\"1\" class=\"dataframe\">\n",
       "  <thead>\n",
       "    <tr style=\"text-align: right;\">\n",
       "      <th></th>\n",
       "      <th>instant</th>\n",
       "      <th>dteday</th>\n",
       "      <th>season</th>\n",
       "      <th>yr</th>\n",
       "      <th>mnth</th>\n",
       "      <th>holiday</th>\n",
       "      <th>weekday</th>\n",
       "      <th>workingday</th>\n",
       "      <th>weathersit</th>\n",
       "      <th>temp</th>\n",
       "      <th>atemp</th>\n",
       "      <th>hum</th>\n",
       "      <th>windspeed</th>\n",
       "      <th>casual</th>\n",
       "      <th>registered</th>\n",
       "      <th>cnt</th>\n",
       "    </tr>\n",
       "  </thead>\n",
       "  <tbody>\n",
       "    <tr>\n",
       "      <td>0</td>\n",
       "      <td>1</td>\n",
       "      <td>01-01-2018</td>\n",
       "      <td>1</td>\n",
       "      <td>0</td>\n",
       "      <td>1</td>\n",
       "      <td>0</td>\n",
       "      <td>6</td>\n",
       "      <td>0</td>\n",
       "      <td>2</td>\n",
       "      <td>14.110847</td>\n",
       "      <td>18.18125</td>\n",
       "      <td>80.5833</td>\n",
       "      <td>10.749882</td>\n",
       "      <td>331</td>\n",
       "      <td>654</td>\n",
       "      <td>985</td>\n",
       "    </tr>\n",
       "    <tr>\n",
       "      <td>1</td>\n",
       "      <td>2</td>\n",
       "      <td>02-01-2018</td>\n",
       "      <td>1</td>\n",
       "      <td>0</td>\n",
       "      <td>1</td>\n",
       "      <td>0</td>\n",
       "      <td>0</td>\n",
       "      <td>0</td>\n",
       "      <td>2</td>\n",
       "      <td>14.902598</td>\n",
       "      <td>17.68695</td>\n",
       "      <td>69.6087</td>\n",
       "      <td>16.652113</td>\n",
       "      <td>131</td>\n",
       "      <td>670</td>\n",
       "      <td>801</td>\n",
       "    </tr>\n",
       "    <tr>\n",
       "      <td>2</td>\n",
       "      <td>3</td>\n",
       "      <td>03-01-2018</td>\n",
       "      <td>1</td>\n",
       "      <td>0</td>\n",
       "      <td>1</td>\n",
       "      <td>0</td>\n",
       "      <td>1</td>\n",
       "      <td>1</td>\n",
       "      <td>1</td>\n",
       "      <td>8.050924</td>\n",
       "      <td>9.47025</td>\n",
       "      <td>43.7273</td>\n",
       "      <td>16.636703</td>\n",
       "      <td>120</td>\n",
       "      <td>1229</td>\n",
       "      <td>1349</td>\n",
       "    </tr>\n",
       "    <tr>\n",
       "      <td>3</td>\n",
       "      <td>4</td>\n",
       "      <td>04-01-2018</td>\n",
       "      <td>1</td>\n",
       "      <td>0</td>\n",
       "      <td>1</td>\n",
       "      <td>0</td>\n",
       "      <td>2</td>\n",
       "      <td>1</td>\n",
       "      <td>1</td>\n",
       "      <td>8.200000</td>\n",
       "      <td>10.60610</td>\n",
       "      <td>59.0435</td>\n",
       "      <td>10.739832</td>\n",
       "      <td>108</td>\n",
       "      <td>1454</td>\n",
       "      <td>1562</td>\n",
       "    </tr>\n",
       "    <tr>\n",
       "      <td>4</td>\n",
       "      <td>5</td>\n",
       "      <td>05-01-2018</td>\n",
       "      <td>1</td>\n",
       "      <td>0</td>\n",
       "      <td>1</td>\n",
       "      <td>0</td>\n",
       "      <td>3</td>\n",
       "      <td>1</td>\n",
       "      <td>1</td>\n",
       "      <td>9.305237</td>\n",
       "      <td>11.46350</td>\n",
       "      <td>43.6957</td>\n",
       "      <td>12.522300</td>\n",
       "      <td>82</td>\n",
       "      <td>1518</td>\n",
       "      <td>1600</td>\n",
       "    </tr>\n",
       "  </tbody>\n",
       "</table>\n",
       "</div>"
      ],
      "text/plain": [
       "   instant      dteday  season  yr  mnth  holiday  weekday  workingday  \\\n",
       "0        1  01-01-2018       1   0     1        0        6           0   \n",
       "1        2  02-01-2018       1   0     1        0        0           0   \n",
       "2        3  03-01-2018       1   0     1        0        1           1   \n",
       "3        4  04-01-2018       1   0     1        0        2           1   \n",
       "4        5  05-01-2018       1   0     1        0        3           1   \n",
       "\n",
       "   weathersit       temp     atemp      hum  windspeed  casual  registered  \\\n",
       "0           2  14.110847  18.18125  80.5833  10.749882     331         654   \n",
       "1           2  14.902598  17.68695  69.6087  16.652113     131         670   \n",
       "2           1   8.050924   9.47025  43.7273  16.636703     120        1229   \n",
       "3           1   8.200000  10.60610  59.0435  10.739832     108        1454   \n",
       "4           1   9.305237  11.46350  43.6957  12.522300      82        1518   \n",
       "\n",
       "    cnt  \n",
       "0   985  \n",
       "1   801  \n",
       "2  1349  \n",
       "3  1562  \n",
       "4  1600  "
      ]
     },
     "execution_count": 74,
     "metadata": {},
     "output_type": "execute_result"
    }
   ],
   "source": [
    "bikes_day.head()\n"
   ]
  },
  {
   "cell_type": "markdown",
   "metadata": {},
   "source": [
    "The ridership seem to be constantly increasing however there is a slight drop durng weekends."
   ]
  },
  {
   "cell_type": "markdown",
   "metadata": {},
   "source": [
    "dropping columns"
   ]
  },
  {
   "cell_type": "code",
   "execution_count": 75,
   "metadata": {},
   "outputs": [],
   "source": [
    "bikes_day = bikes_day.drop(['casual' , 'registered'], axis=1)"
   ]
  },
  {
   "cell_type": "code",
   "execution_count": 76,
   "metadata": {},
   "outputs": [
    {
     "name": "stdout",
     "output_type": "stream",
     "text": [
      "<class 'pandas.core.frame.DataFrame'>\n",
      "RangeIndex: 730 entries, 0 to 729\n",
      "Data columns (total 14 columns):\n",
      "instant       730 non-null int64\n",
      "dteday        730 non-null object\n",
      "season        730 non-null int64\n",
      "yr            730 non-null int64\n",
      "mnth          730 non-null int64\n",
      "holiday       730 non-null int64\n",
      "weekday       730 non-null int64\n",
      "workingday    730 non-null int64\n",
      "weathersit    730 non-null int64\n",
      "temp          730 non-null float64\n",
      "atemp         730 non-null float64\n",
      "hum           730 non-null float64\n",
      "windspeed     730 non-null float64\n",
      "cnt           730 non-null int64\n",
      "dtypes: float64(4), int64(9), object(1)\n",
      "memory usage: 80.0+ KB\n"
     ]
    }
   ],
   "source": [
    "bikes_day.info()\n",
    "#There are no null values as seen below\n"
   ]
  },
  {
   "cell_type": "code",
   "execution_count": 77,
   "metadata": {},
   "outputs": [
    {
     "data": {
      "text/plain": [
       "count     730.000000\n",
       "mean     4508.006849\n",
       "std      1936.011647\n",
       "min        22.000000\n",
       "25%      3169.750000\n",
       "50%      4548.500000\n",
       "75%      5966.000000\n",
       "max      8714.000000\n",
       "Name: cnt, dtype: float64"
      ]
     },
     "execution_count": 77,
     "metadata": {},
     "output_type": "execute_result"
    }
   ],
   "source": [
    "bikes_day['cnt'].describe()"
   ]
  },
  {
   "cell_type": "markdown",
   "metadata": {},
   "source": [
    "Summary of 'cnt' feature"
   ]
  },
  {
   "cell_type": "code",
   "execution_count": 78,
   "metadata": {},
   "outputs": [
    {
     "data": {
      "text/plain": [
       "Text(0.5, 0.98, 'Recorded Bike Rental Counts')"
      ]
     },
     "execution_count": 78,
     "metadata": {},
     "output_type": "execute_result"
    },
    {
     "data": {
      "image/png": "[encoded data removed]",
      "text/plain": [
       "<Figure size 432x288 with 1 Axes>"
      ]
     },
     "metadata": {
      "needs_background": "light"
     },
     "output_type": "display_data"
    }
   ],
   "source": [
    "fig, ax = plt.subplots(1)\n",
    "ax.plot(sorted(bikes_day['cnt']), color = 'blue', marker = '*', label='cnt')\n",
    "ax.legend(loc= 'upper left')\n",
    "ax.set_ylabel('Sorted Rental Counts', fontsize = 10)\n",
    "fig.suptitle('Recorded Bike Rental Counts', fontsize = 10)"
   ]
  },
  {
   "cell_type": "markdown",
   "metadata": {},
   "source": [
    "Understandnig relationships"
   ]
  },
  {
   "cell_type": "code",
   "execution_count": 79,
   "metadata": {},
   "outputs": [
    {
     "data": {
      "text/plain": [
       "Text(0, 0.5, 'Count of all Biks Rented')"
      ]
     },
     "execution_count": 79,
     "metadata": {},
     "output_type": "execute_result"
    },
    {
     "data": {
      "image/png": "[encoded data removed]",
      "text/plain": [
       "<Figure size 432x288 with 1 Axes>"
      ]
     },
     "metadata": {
      "needs_background": "light"
     },
     "output_type": "display_data"
    }
   ],
   "source": [
    "plt.scatter(bikes_day['temp'], bikes_day['cnt'])\n",
    "plt.suptitle('Numerical Feature: Cnt v/s temp')\n",
    "plt.xlabel('temp')\n",
    "plt.ylabel('Count of all Biks Rented')"
   ]
  },
  {
   "cell_type": "markdown",
   "metadata": {},
   "source": [
    "There is a relation between 'count of all bikes rented; and temperature"
   ]
  },
  {
   "cell_type": "code",
   "execution_count": 80,
   "metadata": {},
   "outputs": [
    {
     "data": {
      "text/plain": [
       "Text(0, 0.5, 'Count of all Biks Rented')"
      ]
     },
     "execution_count": 80,
     "metadata": {},
     "output_type": "execute_result"
    },
    {
     "data": {
      "image/png": "[encoded data removed]",
      "text/plain": [
       "<Figure size 432x288 with 1 Axes>"
      ]
     },
     "metadata": {
      "needs_background": "light"
     },
     "output_type": "display_data"
    }
   ],
   "source": [
    "plt.scatter(bikes_day['atemp'], bikes_day['cnt'])\n",
    "plt.suptitle('Numerical Feature: Cnt v/s atemp')\n",
    "plt.xlabel('atemp')\n",
    "plt.ylabel('Count of all Biks Rented')"
   ]
  },
  {
   "cell_type": "markdown",
   "metadata": {},
   "source": [
    "Dropping a atemp feature"
   ]
  },
  {
   "cell_type": "code",
   "execution_count": 81,
   "metadata": {},
   "outputs": [
    {
     "data": {
      "text/plain": [
       "Text(0, 0.5, 'Count of all Biks Rented')"
      ]
     },
     "execution_count": 81,
     "metadata": {},
     "output_type": "execute_result"
    },
    {
     "data": {
      "image/png": "[encoded data removed]",
      "text/plain": [
       "<Figure size 432x288 with 1 Axes>"
      ]
     },
     "metadata": {
      "needs_background": "light"
     },
     "output_type": "display_data"
    }
   ],
   "source": [
    "plt.scatter(bikes_day['hum'], bikes_day['cnt'])\n",
    "plt.suptitle('Numerical Feature: Cnt v/s hum')\n",
    "plt.xlabel('hum')\n",
    "plt.ylabel('Count of all Biks Rented')"
   ]
  },
  {
   "cell_type": "code",
   "execution_count": 82,
   "metadata": {},
   "outputs": [
    {
     "data": {
      "text/plain": [
       "Text(0, 0.5, 'Count of all Biks Rented')"
      ]
     },
     "execution_count": 82,
     "metadata": {},
     "output_type": "execute_result"
    },
    {
     "data": {
      "image/png": "[encoded data removed]",
      "text/plain": [
       "<Figure size 432x288 with 1 Axes>"
      ]
     },
     "metadata": {
      "needs_background": "light"
     },
     "output_type": "display_data"
    }
   ],
   "source": [
    "plt.scatter(bikes_day['windspeed'], bikes_day['cnt'])\n",
    "plt.suptitle('Numerical Feature: Cnt v/s windspeed')\n",
    "plt.xlabel('windspeed')\n",
    "plt.ylabel('Count of all Biks Rented')"
   ]
  },
  {
   "cell_type": "markdown",
   "metadata": {},
   "source": [
    "The plot gets widespread as we move along the x axis\n",
    "The Count of all bikes rented and windspeed are not correlated"
   ]
  },
  {
   "cell_type": "code",
   "execution_count": 83,
   "metadata": {},
   "outputs": [
    {
     "data": {
      "image/png": "[encoded data removed]",
      "text/plain": [
       "<Figure size 936x432 with 2 Axes>"
      ]
     },
     "metadata": {
      "needs_background": "light"
     },
     "output_type": "display_data"
    }
   ],
   "source": [
    "f,  (ax1, ax2)  =  plt.subplots(nrows=1, ncols=2, figsize=(13, 6))\n",
    "\n",
    "ax1 = bikes_day[['season','cnt']].groupby(['season']).sum().reset_index().plot(kind='bar', legend = False, title =\"Counts of Bike Rentals by season\", stacked=True, fontsize=12, ax=ax1)\n",
    "ax1.set_xlabel(\"season\", fontsize=12)\n",
    "ax1.set_ylabel(\"Count\", fontsize=12)\n",
    "ax1.set_xticklabels(['spring','sumer','fall','winter'])\n",
    "ax2 = bikes_day[['weathersit','cnt']].groupby(['weathersit']).sum().reset_index().plot(kind='bar',  \n",
    "      legend = False, stacked=True, title =\"Counts of Bike Rentals by weathersit\", fontsize=12, ax=ax2)\n",
    "\n",
    "ax2.set_xlabel(\"weathersit\", fontsize=12)\n",
    "ax2.set_ylabel(\"Count\", fontsize=12)\n",
    "ax2.set_xticklabels(['1: Clear','2: Mist','3: Light Snow','4: Heavy Rain'])\n",
    "\n",
    "f.tight_layout()"
   ]
  },
  {
   "cell_type": "markdown",
   "metadata": {},
   "source": [
    "Clear weather makes people rent bikes"
   ]
  },
  {
   "cell_type": "markdown",
   "metadata": {},
   "source": [
    "Modelling with Linear Regression"
   ]
  },
  {
   "cell_type": "code",
   "execution_count": 84,
   "metadata": {},
   "outputs": [
    {
     "name": "stdout",
     "output_type": "stream",
     "text": [
      "RMSE: 873.25\n"
     ]
    }
   ],
   "source": [
    "bikes_df_model_data = bikes_day.copy()\n",
    "\n",
    "outcome = 'cnt'\n",
    "\n",
    "#adding features\n",
    "feature = [feat for feat in list(bikes_df_model_data) if feat not in [outcome, 'instant', 'dteday']]\n",
    "\n",
    "#spliting train and test portion\n",
    "X_trian, X_test, y_pred, y_test = train_test_split(bikes_df_model_data[feature],\n",
    "                                                   bikes_df_model_data[outcome],\n",
    "                                                   test_size=0.3, random_state=42)\n",
    "\n",
    "from sklearn import linear_model\n",
    "lr_model = linear_model.LinearRegression()\n",
    "\n",
    "#training the model in training data set\n",
    "lr_model.fit(X_trian, y_train)\n",
    "\n",
    "# predecting the model using test set\n",
    "y_pred = lr_model.predict(X_test)\n",
    "\n",
    "#RSME\n",
    "print('RMSE: %.2f' % sqrt(mean_squared_error(y_test, y_pred)))"
   ]
  },
  {
   "cell_type": "markdown",
   "metadata": {},
   "source": [
    "The root mean sqaure error seems to be high as of 873.25, we can improve this furthur and trying different modelling"
   ]
  },
  {
   "cell_type": "code",
   "execution_count": 85,
   "metadata": {},
   "outputs": [
    {
     "name": "stdout",
     "output_type": "stream",
     "text": [
      "Root Mean squared error with PolynomialFeatures set to 2 degrees: 856.06\n",
      "Root Mean squared error with PolynomialFeatures set to 4 degrees: 17946.46\n"
     ]
    }
   ],
   "source": [
    "bikes_df_model_data = bikes_day.copy()\n",
    "\n",
    "outcome = 'cnt'\n",
    "\n",
    "feature = [feat for feat in list(bikes_df_model_data) if feat not in [outcome, 'instant', 'dteday']]\n",
    "\n",
    "X_trian, X_test, y_pred, y_test = train_test_split(bikes_df_model_data[feature],\n",
    "                                                   bikes_df_model_data[outcome],\n",
    "                                                   test_size=0.3, random_state=42)\n",
    "\n",
    "from sklearn.preprocessing import PolynomialFeatures\n",
    "poly_feat = PolynomialFeatures(2)\n",
    "X_train = poly_feat.fit_transform(X_trian)\n",
    "X_test = poly_feat.fit_transform(X_test)\n",
    "\n",
    "from sklearn import linear_model\n",
    "lr_model= linear_model.LinearRegression()\n",
    "\n",
    "lr_model.fit(X_train, y_train)\n",
    "\n",
    "\n",
    "y_pred = lr_model.predict(X_test)\n",
    "\n",
    "\n",
    "print(\"Root Mean squared error with PolynomialFeatures set to 2 degrees: %.2f\" \n",
    "      % sqrt(mean_squared_error(y_test, y_pred)))\n",
    "bikes_df_model_data = bikes_day.copy()\n",
    "\n",
    "outcome = 'cnt'\n",
    "\n",
    "\n",
    "feature = [feat for feat in list(bikes_df_model_data) if feat not in [outcome, 'instant', 'dteday']]\n",
    "\n",
    "X_trian, X_test, y_train, y_test = train_test_split(bikes_df_model_data[feature],\n",
    "                                                   bikes_df_model_data[outcome],\n",
    "                                                   test_size=0.3, random_state=42)\n",
    "\n",
    "from sklearn.preprocessing import PolynomialFeatures\n",
    "poly_feat = PolynomialFeatures(4)\n",
    "X_train = poly_feat.fit_transform(X_trian)\n",
    "X_test = poly_feat.fit_transform(X_test)\n",
    "\n",
    "from sklearn import linear_model\n",
    "lr_model= linear_model.LinearRegression()\n",
    "\n",
    "\n",
    "lr_model.fit(X_train, y_train)\n",
    "\n",
    "\n",
    "y_pred = lr_model.predict(X_test)\n",
    "\n",
    "\n",
    "print(\"Root Mean squared error with PolynomialFeatures set to 4 degrees: %.2f\" \n",
    "      % sqrt(mean_squared_error(y_test, y_pred)))"
   ]
  },
  {
   "cell_type": "markdown",
   "metadata": {},
   "source": [
    "Other types of modelling - Non Linear modelling"
   ]
  },
  {
   "cell_type": "code",
   "execution_count": 88,
   "metadata": {},
   "outputs": [
    {
     "name": "stdout",
     "output_type": "stream",
     "text": [
      "R^2 for holiday is -0.010647\n",
      "R^2 for temp is 0.369972\n"
     ]
    }
   ],
   "source": [
    "\n",
    "features = ['holiday', 'temp']\n",
    "from sklearn import linear_model\n",
    "from sklearn.metrics import r2_score\n",
    "\n",
    "X_train, X_test, y_train, y_test = train_test_split(bike_df_model_ready[features], \n",
    "                                                 bike_df_model_ready[['cnt']], \n",
    "                                                 test_size=0.3, random_state=42)\n",
    "    \n",
    "for feat in features:\n",
    "    model_lr = linear_model.LinearRegression()\n",
    "    model_lr.fit(X_train[[feat]], y_train)\n",
    "    predictions = model_lr.predict(X_test[[feat]])\n",
    "    print('R^2 for %s is %f' % (feat, r2_score(y_test, predictions)))\n",
    " "
   ]
  },
  {
   "cell_type": "code",
   "execution_count": 89,
   "metadata": {},
   "outputs": [
    {
     "name": "stdout",
     "output_type": "stream",
     "text": [
      "Root Mean squared error: 1523.97\n",
      "\n",
      "\n",
      "Intercept: 1207.061505\n"
     ]
    },
    {
     "data": {
      "text/html": [
       "<div>\n",
       "<style scoped>\n",
       "    .dataframe tbody tr th:only-of-type {\n",
       "        vertical-align: middle;\n",
       "    }\n",
       "\n",
       "    .dataframe tbody tr th {\n",
       "        vertical-align: top;\n",
       "    }\n",
       "\n",
       "    .dataframe thead th {\n",
       "        text-align: right;\n",
       "    }\n",
       "</style>\n",
       "<table border=\"1\" class=\"dataframe\">\n",
       "  <thead>\n",
       "    <tr style=\"text-align: right;\">\n",
       "      <th></th>\n",
       "      <th>coefficients</th>\n",
       "      <th>features</th>\n",
       "    </tr>\n",
       "  </thead>\n",
       "  <tbody>\n",
       "    <tr>\n",
       "      <td>0</td>\n",
       "      <td>-523.121118</td>\n",
       "      <td>holiday</td>\n",
       "    </tr>\n",
       "    <tr>\n",
       "      <td>1</td>\n",
       "      <td>163.511969</td>\n",
       "      <td>temp</td>\n",
       "    </tr>\n",
       "  </tbody>\n",
       "</table>\n",
       "</div>"
      ],
      "text/plain": [
       "   coefficients features\n",
       "0   -523.121118  holiday\n",
       "1    163.511969     temp"
      ]
     },
     "execution_count": 89,
     "metadata": {},
     "output_type": "execute_result"
    }
   ],
   "source": [
    "\n",
    "model_lr.fit(X_train, y_train)\n",
    "\n",
    "predictions = model_lr.predict(X_test)\n",
    " \n",
    "\n",
    "print(\"Root Mean squared error: %.2f\" % sqrt(mean_squared_error(y_test, predictions)))\n",
    "print('\\n')\n",
    "print('Intercept: %f' % model_lr.intercept_)\n",
    "\n",
    "\n",
    "feature_coefficients  = pd.DataFrame({'coefficients':model_lr.coef_[0], \n",
    "                                    'features':X_train.columns.values})\n",
    "\n",
    "feature_coefficients.sort_values('coefficients')"
   ]
  },
  {
   "cell_type": "markdown",
   "metadata": {},
   "source": [
    "Setting coff"
   ]
  },
  {
   "cell_type": "code",
   "execution_count": 90,
   "metadata": {},
   "outputs": [],
   "source": [
    "INTERCEPT = -121.029547\n",
    "\n",
    "#temp\n",
    "Coff_Temp = 163.511969 \n",
    "\n",
    "#Winter\n",
    "CoffSeason_4 = 39.009224   \n",
    "\n",
    "# if the day is holiday\n",
    "Coff_Holiday = -523.121118   \n",
    "\n",
    "#Springer\n",
    "CoffSeason_1 = 3.861149    \n",
    "\n",
    "#Summer\n",
    "CoffSeason_2 = -1.624812   \n",
    "\n",
    "#Fall\n",
    "CoffSeason_3 = -41.245562    "
   ]
  },
  {
   "cell_type": "code",
   "execution_count": 91,
   "metadata": {},
   "outputs": [
    {
     "data": {
      "text/plain": [
       "20.550309976712306"
      ]
     },
     "execution_count": 91,
     "metadata": {},
     "output_type": "execute_result"
    }
   ],
   "source": [
    "np.mean(X_train['temp'])"
   ]
  },
  {
   "cell_type": "code",
   "execution_count": 92,
   "metadata": {},
   "outputs": [
    {
     "name": "stdout",
     "output_type": "stream",
     "text": [
      "Estimated bike rental count for selected parameters: -50\n"
     ]
    }
   ],
   "source": [
    "# mean values\n",
    "MEAN_HOLIDAY = 0.0275   # day is holiday or not\n",
    "MEAN_HOUR = 11.6        # hour (0 to 23)\n",
    "MEAN_SEASON_1 = 1       # 1:spring\n",
    "MEAN_SEASON_2 = 0       # 2:summer\n",
    "MEAN_SEASON_3 = 0       # 3:fall\n",
    "MEAN_SEASON_4 = 0       # 4:winter\n",
    "MEAN_TEMP = 0.4967      # norm temp in Celsius -8 to +39\n",
    "\n",
    "\n",
    "# try predicting something - 9AM with all other features held constant\n",
    "rental_counts = INTERCEPT + (MEAN_HOLIDAY * Coff_Holiday) \\\n",
    "    + (MEAN_SEASON_1 * CoffSeason_1)  + (MEAN_SEASON_2 * CoffSeason_2) \\\n",
    "    + (MEAN_SEASON_3 * CoffSeason_3)  + (MEAN_SEASON_4 * CoffSeason_4) \\\n",
    "    + (MEAN_TEMP * Coff_Temp)\n",
    "\n",
    "print('Estimated bike rental count for selected parameters: %i' % int(rental_counts))   "
   ]
  },
  {
   "cell_type": "code",
   "execution_count": null,
   "metadata": {},
   "outputs": [],
   "source": []
  }
 ],
 "metadata": {
  "kernelspec": {
   "display_name": "Python 3",
   "language": "python",
   "name": "python3"
  },
  "language_info": {
   "codemirror_mode": {
    "name": "ipython",
    "version": 3
   },
   "file_extension": ".py",
   "mimetype": "text/x-python",
   "name": "python",
   "nbconvert_exporter": "python",
   "pygments_lexer": "ipython3",
   "version": "3.7.4"
  }
 },
 "nbformat": 4,
 "nbformat_minor": 2
}
